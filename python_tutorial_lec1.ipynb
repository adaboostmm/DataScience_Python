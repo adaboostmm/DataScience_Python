{
 "cells": [
  {
   "cell_type": "markdown",
   "metadata": {},
   "source": [
    "# Stanford Python tutorial for cs224N"
   ]
  },
  {
   "cell_type": "code",
   "execution_count": 1,
   "metadata": {},
   "outputs": [
    {
     "name": "stdout",
     "output_type": "stream",
     "text": [
      "224n\n"
     ]
    }
   ],
   "source": [
    "name = input()\n",
    "print(\"hello', name\")"
   ]
  },
  {
   "cell_type": "code",
   "execution_count": 3,
   "metadata": {},
   "outputs": [],
   "source": [
    "var = True #booplean\n",
    "var = None # empty pointer"
   ]
  },
  {
   "cell_type": "code",
   "execution_count": 6,
   "metadata": {},
   "outputs": [
    {
     "name": "stdout",
     "output_type": "stream",
     "text": [
      "2\n"
     ]
    }
   ],
   "source": [
    "# int division\n",
    "var = 10\n",
    "print(var // 4)"
   ]
  },
  {
   "cell_type": "code",
   "execution_count": 11,
   "metadata": {},
   "outputs": [
    {
     "name": "stdout",
     "output_type": "stream",
     "text": [
      "False\n"
     ]
    }
   ],
   "source": [
    "var = False\n",
    "if not var:\n",
    "    print(\"False\")"
   ]
  },
  {
   "cell_type": "code",
   "execution_count": 17,
   "metadata": {},
   "outputs": [
    {
     "name": "stdout",
     "output_type": "stream",
     "text": [
      " MARY SAID \"Hello\" to John\n",
      "26\n"
     ]
    }
   ],
   "source": [
    "s = ' Mary said \"Hello\" to John'\n",
    "s = \" MARY SAID \\\"Hello\\\" to John\"\n",
    "print(s)\n",
    "print(len(s)) # length of string and any iterable type"
   ]
  },
  {
   "cell_type": "code",
   "execution_count": 27,
   "metadata": {},
   "outputs": [
    {
     "name": "stdout",
     "output_type": "stream",
     "text": [
      "MA\n",
      "This is a MARY SAID \"Hello\" to John!\n",
      " mary said \"hello\" to john\n",
      " MARY SAID \"Hello\" to John MARY SAID \"Hello\" to John MARY SAID \"Hello\" to John MARY SAID \"Hello\" to John\n",
      "False\n",
      "1\n",
      "['', 'I', 'am', 'a', 'sentence']\n",
      "[' I', 'm', ' sentence']\n",
      "a b c\n"
     ]
    }
   ],
   "source": [
    "print(s[1:3]) #[1, 3)\n",
    "print(\"This is a\" + s +\"!\")\n",
    "print(s.lower())\n",
    "print(s*4)\n",
    "print(\"ring\" in s)\n",
    "print(s.index(\"MARY\"))\n",
    "print(\" I am a sentence\".split(\" \")) # split by delimiter\n",
    "print(\" I am a sentence\".split(\" a\")) # split by delimiter\n",
    "print(\" \".join(['a','b','c'])) # concatenate list of striongs using a delimiter"
   ]
  },
  {
   "cell_type": "code",
   "execution_count": 29,
   "metadata": {},
   "outputs": [
    {
     "name": "stdout",
     "output_type": "stream",
     "text": [
      "abc\n",
      "a.....b.....c\n"
     ]
    }
   ],
   "source": [
    "print(\"\".join(['a','b','c']))\n",
    "print(\".....\".join(['a','b','c']))"
   ]
  },
  {
   "cell_type": "code",
   "execution_count": 31,
   "metadata": {},
   "outputs": [
    {
     "name": "stdout",
     "output_type": "stream",
     "text": [
      "Formatting a string like 0.12\n",
      " print the sentence  MARY SAID \"Hello\" to John\n"
     ]
    }
   ],
   "source": [
    "# formatting variables\n",
    "print(\"Formatting a string like %.2f\"%(0.1235))\n",
    "print(f\" print the sentence {s}\")"
   ]
  },
  {
   "cell_type": "code",
   "execution_count": 34,
   "metadata": {},
   "outputs": [
    {
     "name": "stdout",
     "output_type": "stream",
     "text": [
      "0\n",
      "1\n",
      "4\n",
      "9\n",
      "16\n",
      "1\n",
      "4\n",
      "9\n",
      "16\n",
      "4\n",
      "9\n",
      "16\n",
      "9\n",
      "16\n",
      "16\n"
     ]
    }
   ],
   "source": [
    "# control flow\n",
    "for i in range(0,5):\n",
    "    for j in range(i, 5):\n",
    "        print(j**2)\n"
   ]
  },
  {
   "cell_type": "code",
   "execution_count": 35,
   "metadata": {},
   "outputs": [
    {
     "name": "stdout",
     "output_type": "stream",
     "text": [
      "=\n"
     ]
    }
   ],
   "source": [
    "# control flow\n",
    "var = 10\n",
    "if var > 10:\n",
    "    print(\">\")\n",
    "elif var == 10:\n",
    "    print(\"=\")\n",
    "else:\n",
    "    print(\"<\")"
   ]
  },
  {
   "cell_type": "code",
   "execution_count": 39,
   "metadata": {},
   "outputs": [
    {
     "name": "stdout",
     "output_type": "stream",
     "text": [
      "object\n"
     ]
    }
   ],
   "source": [
    "#check null poimnter or empty array\n",
    "var = None\n",
    "if var:\n",
    "    print(var)\n",
    "var = []\n",
    "if var:\n",
    "    print(var)\n",
    "var = \"object\"\n",
    "if var:\n",
    "    print(var)"
   ]
  },
  {
   "cell_type": "code",
   "execution_count": 40,
   "metadata": {},
   "outputs": [
    {
     "name": "stdout",
     "output_type": "stream",
     "text": [
      "5\n",
      "4\n",
      "3\n",
      "2\n",
      "1\n"
     ]
    }
   ],
   "source": [
    "var = 5\n",
    "while var > 0:\n",
    "    print(var)\n",
    "    var -= 1"
   ]
  },
  {
   "cell_type": "code",
   "execution_count": 50,
   "metadata": {},
   "outputs": [
    {
     "name": "stdout",
     "output_type": "stream",
     "text": [
      "0\n",
      "1\n",
      "2\n",
      "3\n",
      "2\n",
      "0\n",
      "-2\n"
     ]
    }
   ],
   "source": [
    "for i in range(0,4):\n",
    "    print(i)\n",
    "for i in range(2, -3, -2): # start-inclusive, stop-inclusive, step\n",
    "    print(i)"
   ]
  },
  {
   "cell_type": "code",
   "execution_count": 46,
   "metadata": {},
   "outputs": [
    {
     "data": {
      "text/plain": [
       "5"
      ]
     },
     "execution_count": 46,
     "metadata": {},
     "output_type": "execute_result"
    }
   ],
   "source": [
    "#function\n",
    "def func(a, b):\n",
    "    return a+b\n",
    "func(2,3)"
   ]
  },
  {
   "cell_type": "code",
   "execution_count": 52,
   "metadata": {},
   "outputs": [
    {
     "data": {
      "text/plain": [
       "False"
      ]
     },
     "execution_count": 52,
     "metadata": {},
     "output_type": "execute_result"
    }
   ],
   "source": [
    "# use default parameters and pass value by parameter name\n",
    "def rangecheck(a, min_val = 0, max_val = 10):\n",
    "    return min_val < a < max_val # syntactic sugar\n",
    "rangecheck(5, max_val = 4)"
   ]
  },
  {
   "cell_type": "code",
   "execution_count": 54,
   "metadata": {},
   "outputs": [
    {
     "name": "stdout",
     "output_type": "stream",
     "text": [
      "6\n",
      "3\n"
     ]
    }
   ],
   "source": [
    "#define class\n",
    "class Foo:\n",
    "    # optional constructor\n",
    "    def __init__(self,x):\n",
    "        # first parameter \"self\" for instance reference\n",
    "        self.x = x\n",
    "        \n",
    "    # instance method\n",
    "    def printX(self):# instance reference is required for all fn parameters\n",
    "        print(self.x)\n",
    "        \n",
    "    # class methods\n",
    "    @classmethod\n",
    "    def printHello(self):\n",
    "        print(\"Hello\")\n",
    "        \n",
    "obj = Foo(6)\n",
    "obj.printX()\n",
    "\n",
    "# class inheritance - inherits variables and methods\n",
    "\n",
    "class Bar(Foo):\n",
    "    pass\n",
    "\n",
    "obj = Bar(3)\n",
    "obj.printX()\n",
    "    "
   ]
  },
  {
   "cell_type": "markdown",
   "metadata": {},
   "source": [
    "# Iterables"
   ]
  },
  {
   "cell_type": "code",
   "execution_count": 55,
   "metadata": {},
   "outputs": [
    {
     "name": "stdout",
     "output_type": "stream",
     "text": [
      "0\n"
     ]
    }
   ],
   "source": [
    "alist = list() # Linear, size not fixed, not hashable\n",
    "atuple = tuple() # linear, fixed size, hashable\n",
    "adict = dict() # hash table, not hashable, stores (key,value) pairs\n",
    "aset = set() #  hash table, like dict but only stiores keys\n",
    "acopy = alist.copy() # shallow copy\n",
    "print(len(alist)) # gets size of any iterable type"
   ]
  },
  {
   "cell_type": "code",
   "execution_count": 57,
   "metadata": {},
   "outputs": [
    {
     "data": {
      "text/plain": [
       "{('a', 'cat'): 10}"
      ]
     },
     "execution_count": 57,
     "metadata": {},
     "output_type": "execute_result"
    }
   ],
   "source": [
    "# tuple usage\n",
    "d = dict()\n",
    "d[(\"a\", \"cat\")] = 10\n",
    "d"
   ]
  },
  {
   "cell_type": "markdown",
   "metadata": {},
   "source": [
    "# List\n",
    "\n",
    "1. List is not hashable, i.e. can't use as dictionary key\n",
    "2. dynamic size, allows duplicates and inconsistent element types\n",
    "3. dynamic array implementation"
   ]
  },
  {
   "cell_type": "code",
   "execution_count": 60,
   "metadata": {},
   "outputs": [
    {
     "name": "stdout",
     "output_type": "stream",
     "text": [
      "1\n",
      "[1, 2, 3, 4, 5]\n"
     ]
    }
   ],
   "source": [
    "# List Creation\n",
    "alist = []\n",
    "alist = list()\n",
    "alist = [1,2,3,4,5]\n",
    "print(alist[0])\n",
    "#alist[0] = 5\n",
    "print(alist)"
   ]
  },
  {
   "cell_type": "code",
   "execution_count": 72,
   "metadata": {},
   "outputs": [
    {
     "name": "stdout",
     "output_type": "stream",
     "text": [
      "1    1\n",
      "2.   5\n",
      "3.   [4, 5]\n",
      "4.   [1, 2, 3]\n",
      "5.   [3, 4]\n",
      "6    []\n",
      "7.   [5, 3, 1]\n",
      "8.   [5, 4, 3, 2, 1]\n",
      "9.   4\n",
      "10.  [1, 3, 5]\n"
     ]
    }
   ],
   "source": [
    "# List indexing\n",
    "print(\"1   \",alist[0]) # first element at index 0\n",
    "print(\"2.  \",alist[-1]) # last element at index len-1\n",
    "print(\"3.  \",alist[3:]) # get elements starting from index 3 inclusive\n",
    "print(\"4.  \",alist[:3]) # get elements starting at index 3 exclusive\n",
    "print(\"5.  \",alist[2:4]) # within index range [2,4)\n",
    "print(\"6   \",alist[6:]) # prints nothing\n",
    "print(\"7.  \",alist[::-2]) # prints from end skipping 1\n",
    "print(\"8.  \",alist[::-1]) # reverses a list\n",
    "print(\"9.  \",alist[-2])  # prints last but 1\n",
    "print(\"10. \", alist[::2]) # starts from beginning and prints every second element"
   ]
  },
  {
   "cell_type": "code",
   "execution_count": 84,
   "metadata": {},
   "outputs": [
    {
     "name": "stdout",
     "output_type": "stream",
     "text": [
      "1.  [1, 2, 3, 4, 5, 'new item']\n",
      "2.  ['new item', 1, 2, 3, 4, 5]\n",
      "3.  [1, 2, 3, 4, 5, 2, 3, 4]\n",
      "4.  [1, 2, 3, 4, 5, 2, 3, 4]\n",
      "5   1\n",
      "6.  [1, 2, 4, 5]\n",
      "7.  [2, 3, 4, 5]\n"
     ]
    }
   ],
   "source": [
    "# List modification\n",
    "alist = [1,2,3,4,5]\n",
    "alist.append(\"new item\") # insert at end\n",
    "print(\"1. \", alist)\n",
    "alist = [1,2,3,4,5]\n",
    "alist.insert(0, \"new item\") #insert at index 0\n",
    "print(\"2. \", alist)\n",
    "alist = [1,2,3,4,5]\n",
    "alist.extend([2,3,4]) #concatenate list\n",
    "print(\"3. \", alist)\n",
    "alist = [1,2,3,4,5]\n",
    "alist += [2,3,4]\n",
    "print(\"4. \", alist)\n",
    "alist = [1,2,3,4,5]\n",
    "print(\"5  \", alist.index(2)) # search by content\n",
    "alist = [1,2,3,4,5]\n",
    "alist.remove(3)\n",
    "print(\"6. \", alist)\n",
    "alist = [1,2,3,4,5]\n",
    "alist.pop(0)\n",
    "print(\"7. \", alist)\n"
   ]
  },
  {
   "cell_type": "code",
   "execution_count": 86,
   "metadata": {},
   "outputs": [
    {
     "name": "stdout",
     "output_type": "stream",
     "text": [
      "[2, 3, 4, 5]\n"
     ]
    }
   ],
   "source": [
    "if 5 in alist:\n",
    "    print(alist)"
   ]
  },
  {
   "cell_type": "code",
   "execution_count": 88,
   "metadata": {},
   "outputs": [
    {
     "name": "stdout",
     "output_type": "stream",
     "text": [
      "2\n",
      "3\n",
      "4\n",
      "5\n",
      "0 2\n",
      "1 3\n",
      "2 4\n",
      "3 5\n"
     ]
    }
   ],
   "source": [
    "#list traversal\n",
    "for ele in alist:\n",
    "    print(ele)\n",
    "# traverse with index\n",
    "for i,ele in enumerate(alist):\n",
    "    print(i,ele)"
   ]
  },
  {
   "cell_type": "markdown",
   "metadata": {},
   "source": [
    "# Tuple\n",
    "\n",
    "1. hashable(i.e. can use as a dictionary key\n",
    "2. fixed size\n",
    "3. no insertion or deletion\n",
    "4. it does not make sense to create empty tuples\n",
    "5. you can cast other iterables to tuple\n",
    "6. indexing and traversal are same as list"
   ]
  },
  {
   "cell_type": "code",
   "execution_count": 90,
   "metadata": {},
   "outputs": [
    {
     "name": "stdout",
     "output_type": "stream",
     "text": [
      "1  (1, 2, 3, 4, 5)\n",
      "2  (1, 2, 3)\n"
     ]
    }
   ],
   "source": [
    "atuple = (1,2,3,4,5)\n",
    "print(\"1 \",atuple)\n",
    "atuple = tuple([1,2,3])\n",
    "print(\"2 \",atuple)"
   ]
  },
  {
   "cell_type": "code",
   "execution_count": 92,
   "metadata": {},
   "outputs": [
    {
     "name": "stdout",
     "output_type": "stream",
     "text": [
      "1.0 5.0\n",
      "2.5 1.5\n"
     ]
    }
   ],
   "source": [
    "# Named tuple for readability\n",
    "\n",
    "from collections import namedtuple\n",
    "Point = namedtuple('Point', 'x y')\n",
    "pt1 = Point(1.0, 5.0)\n",
    "pt2 = Point(2.5, 1.5)\n",
    "print(pt1.x, pt1.y)\n",
    "print(pt2.x, pt2.y)"
   ]
  },
  {
   "cell_type": "markdown",
   "metadata": {},
   "source": [
    "# Dictionary\n",
    "\n",
    "1. Dictionary not hashable\n",
    "2. dynamic size\n",
    "3. no duplicate allowed\n",
    "4. hash table implementation which is fast for searching"
   ]
  },
  {
   "cell_type": "code",
   "execution_count": 104,
   "metadata": {},
   "outputs": [
    {
     "name": "stdout",
     "output_type": "stream",
     "text": [
      "1  {'a': 1, 'b': 2, 'c': 3}\n",
      "2  dict_keys(['a', 'b', 'c'])\n",
      "3  1\n",
      "3\n",
      "4  {'a': 1, 'b': 2, 'c': 3, 'e': 10}\n",
      "5  {'a': 1, 'b': 2, 'c': 3, 'e': 5}\n",
      "a 1\n",
      "b 2\n",
      "c 3\n",
      "e 5\n",
      "a 1\n",
      "b 2\n",
      "c 3\n",
      "e 5\n",
      "is it? 3\n"
     ]
    }
   ],
   "source": [
    "# dict creation\n",
    "adict = {}\n",
    "adict = dict()\n",
    "adict = {'a': 1, 'b':2, 'c':3}\n",
    "print(\"1 \",adict)\n",
    "print(\"2 \",adict.keys())\n",
    "print(\"3 \",adict['a']) # get value paired with a key\n",
    "\n",
    "adict['e'] = 10 # insert new key\n",
    "print(\"4 \",adict)\n",
    "adict['e'] = 5 # modify existing key\n",
    "print(\"5 \",adict)\n",
    "\n",
    "# traversal\n",
    "for key in adict:\n",
    "    print(key, adict[key])\n",
    "\n",
    "for key, value in adict.items():\n",
    "    print(key, value)\n",
    "\n",
    "# NOTE: check if a key exists\n",
    "key = 'c'\n",
    "if key in adict:\n",
    "    print(\"is it?\",adict[key])"
   ]
  },
  {
   "cell_type": "markdown",
   "metadata": {},
   "source": [
    "# Special dictionaries\n",
    "\n",
    "1. set is a dictionary without values\n",
    "2. deduplication shortcut using set\n",
    "3. default dictionary returns a value computred from a default FN\n",
    "4. counter is a dictionary with default value of 0 and it provides handy iterable counting tools"
   ]
  },
  {
   "cell_type": "code",
   "execution_count": 106,
   "metadata": {},
   "outputs": [
    {
     "name": "stdout",
     "output_type": "stream",
     "text": [
      "1  {'a'}\n",
      "2  [1, 2, 3, 4]\n"
     ]
    }
   ],
   "source": [
    "aset = set()\n",
    "aset.add('a')\n",
    "print(\"1 \", aset)\n",
    "#dedup\n",
    "alist = [1, 2, 3, 3, 3, 4, 3]\n",
    "alist = list(set(alist))\n",
    "print(\"2 \", alist)"
   ]
  },
  {
   "cell_type": "code",
   "execution_count": 108,
   "metadata": {},
   "outputs": [
    {
     "name": "stdout",
     "output_type": "stream",
     "text": [
      "feline\n",
      "unknown\n"
     ]
    }
   ],
   "source": [
    "from collections import defaultdict\n",
    "adict = defaultdict(lambda: 'unknown')\n",
    "adict['cat'] = 'feline'\n",
    "print(adict['cat'])\n",
    "print(adict['dog']) # returns a val computed from a default fn for non existent entries"
   ]
  },
  {
   "cell_type": "code",
   "execution_count": 112,
   "metadata": {},
   "outputs": [
    {
     "name": "stdout",
     "output_type": "stream",
     "text": [
      "1.   Counter({'t1': 11, 'e': 1})\n",
      "2.   Counter({'e': 4, 't': 4, ' ': 3, 'o': 2, 'l': 1, 'r': 1, 's': 1, 'b': 1, 'c': 1, 'u': 1, 'n': 1, 'd': 1})\n",
      "3.   Counter({'t1': 11, 'e': 5, 't': 4, ' ': 3, 'o': 2, 'l': 1, 'r': 1, 's': 1, 'b': 1, 'c': 1, 'u': 1, 'n': 1, 'd': 1})\n",
      "4.   Counter({'t1': 11})\n",
      "5.   Counter({'e': 4, 't': 4, ' ': 3, 'o': 2, 'l': 1, 'r': 1, 's': 1, 'b': 1, 'c': 1, 'u': 1, 'n': 1, 'd': 1})\n"
     ]
    }
   ],
   "source": [
    "from collections import Counter\n",
    "# initialize and modify empty counter\n",
    "counter1 = Counter()\n",
    "counter1['t1'] = 10\n",
    "counter1['t1'] += 1\n",
    "counter1['e'] += 1\n",
    "print(\"1.  \",counter1)\n",
    "\n",
    "#initialize counter from iterable\n",
    "counter2 = Counter(\"letters to be counted\")\n",
    "print(\"2.  \",counter2)\n",
    "\n",
    "# computations using counter\n",
    "print(\"3.  \",counter1 + counter2)\n",
    "print(\"4.  \",counter1 - counter2)\n",
    "print(\"5.  \",counter1 and counter2) # union # or= intersection"
   ]
  },
  {
   "cell_type": "markdown",
   "metadata": {},
   "source": [
    "# Sorting"
   ]
  },
  {
   "cell_type": "code",
   "execution_count": 122,
   "metadata": {},
   "outputs": [
    {
     "name": "stdout",
     "output_type": "stream",
     "text": [
      "1  [0, 1, 1, 4, 5, 6, 7, 8, 9]\n",
      "2  [9, 8, 7, 6, 5, 4, 1, 1, 0]\n",
      "3  [('bird', 2), ('cat', 1), ('dog', 3)]\n",
      "4  [('cat', 1), ('bird', 2), ('dog', 3)]\n",
      "5  {'cat': 3, 'bird': 1}\n",
      "6  dict_items([('cat', 3), ('bird', 1)])\n"
     ]
    },
    {
     "data": {
      "text/plain": [
       "[('bird', 1), ('cat', 3)]"
      ]
     },
     "execution_count": 122,
     "metadata": {},
     "output_type": "execute_result"
    }
   ],
   "source": [
    "a = [4, 6, 1, 7, 0, 5, 1, 8, 9]\n",
    "a = sorted(a) # sort a list\n",
    "print(\"1 \", a)\n",
    "a = sorted(a, reverse=True)\n",
    "print(\"2 \", a)\n",
    "a = [(\"cat\", 1), (\"dog\", 3), (\"bird\", 2)] # list of tuples \n",
    "a = sorted(a) # default sorting\n",
    "print(\"3 \", a)\n",
    "a = sorted(a, key = lambda x:x[1]) # sort by the second element\n",
    "print(\"4 \", a)\n",
    "\n",
    "# sort a dictionary\n",
    "adict = {'cat':3, 'bird':1}\n",
    "print(\"5 \", adict)\n",
    "print(\"6 \",adict.items()) # converts dict into a list\n",
    "sorted(adict.items(), key = lambda x:x[1])"
   ]
  },
  {
   "cell_type": "markdown",
   "metadata": {},
   "source": [
    "# Syntax sugar\n",
    "\n",
    "one-line control flow + list operation"
   ]
  },
  {
   "cell_type": "code",
   "execution_count": 128,
   "metadata": {},
   "outputs": [
    {
     "name": "stdout",
     "output_type": "stream",
     "text": [
      "[['', 'i', 'am', 'good'], ['a', 'beautiful', 'day'], ['hello', 'friend']]\n",
      "[['', 'i', 'am', 'good'], ['a', 'beautiful', 'day'], ['hello', 'friend']]\n",
      "[['a', 'beautiful', 'day'], ['hello', 'friend']]\n"
     ]
    }
   ],
   "source": [
    "sent = [\" i am good\", \"a beautiful day\", \"HELLO FRIEND\"]\n",
    "for i in range(len(sent)):\n",
    "    sent[i] = sent[i].lower().split(\" \")\n",
    "print(sent)\n",
    "\n",
    "# list comprehension\n",
    "sent = [\" i am good\", \"a beautiful day\", \"HELLO FRIEND\"]\n",
    "sent = [s.lower().split(\" \") for s in sent]\n",
    "print(sent)\n",
    "\n",
    "sent = [\" i am good\", \"a beautiful day\", \"HELLO FRIEND\"]\n",
    "sent = [s.lower().split(\" \") for s in sent if len(s) > 10]\n",
    "print(sent)"
   ]
  },
  {
   "cell_type": "code",
   "execution_count": 130,
   "metadata": {},
   "outputs": [],
   "source": [
    "#copy = [obj.copy() for obj in original]"
   ]
  },
  {
   "cell_type": "code",
   "execution_count": 137,
   "metadata": {},
   "outputs": [
    {
     "name": "stdout",
     "output_type": "stream",
     "text": [
      "----------\n",
      "[1, 1, 1, 1, 1, 1, 1, 1, 1, 1]\n",
      "[[], [], [], [], [], [], [], [], [], []]\n",
      "[[1], [1], [1], [1], [1], [1], [1], [1], [1], [1]]\n"
     ]
    }
   ],
   "source": [
    "# operator for repeating iterable elements\n",
    "print(\"-\"*10)\n",
    "print([1]*10) # initialize array\n",
    "\n",
    "doublelist = [[]]*10\n",
    "print(doublelist)\n",
    "doublelist[0].append(1)\n",
    "print(doublelist)"
   ]
  },
  {
   "cell_type": "code",
   "execution_count": 139,
   "metadata": {},
   "outputs": [
    {
     "name": "stdout",
     "output_type": "stream",
     "text": [
      "[[], [], [], [], [], [], [], [], [], []]\n",
      "[[1], [], [], [], [], [], [], [], [], []]\n"
     ]
    }
   ],
   "source": [
    "doublelist = [[] for _ in range(10)]\n",
    "print(doublelist)\n",
    "doublelist[0].append(1)\n",
    "print(doublelist)"
   ]
  },
  {
   "cell_type": "code",
   "execution_count": null,
   "metadata": {},
   "outputs": [],
   "source": []
  }
 ],
 "metadata": {
  "kernelspec": {
   "display_name": "Python 3",
   "language": "python",
   "name": "python3"
  },
  "language_info": {
   "codemirror_mode": {
    "name": "ipython",
    "version": 3
   },
   "file_extension": ".py",
   "mimetype": "text/x-python",
   "name": "python",
   "nbconvert_exporter": "python",
   "pygments_lexer": "ipython3",
   "version": "3.7.3"
  }
 },
 "nbformat": 4,
 "nbformat_minor": 2
}
